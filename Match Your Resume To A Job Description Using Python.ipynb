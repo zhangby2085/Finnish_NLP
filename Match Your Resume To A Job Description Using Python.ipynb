{
 "cells": [
  {
   "cell_type": "code",
   "execution_count": 10,
   "id": "assured-boundary",
   "metadata": {},
   "outputs": [],
   "source": [
    "# Install the docx2txt package\n",
    "# pip install docx2txt\n",
    "# Import the library\n",
    "import docx2txt"
   ]
  },
  {
   "cell_type": "code",
   "execution_count": 14,
   "id": "plastic-retail",
   "metadata": {},
   "outputs": [
    {
     "name": "stdout",
     "output_type": "stream",
     "text": [
      "huolehtia keittiölaitteiden oikeasta lämpötilasta, hävittää jätteitä,käyttää elintarvikkeiden leikkaustyökaluja\n"
     ]
    }
   ],
   "source": [
    "# Store the resume in a variable\n",
    "resume = \"huolehtia keittiölaitteiden oikeasta lämpötilasta, hävittää jätteitä,käyttää elintarvikkeiden leikkaustyökaluja\"\n",
    "\n",
    "# Print the resume\n",
    "print(resume)"
   ]
  },
  {
   "cell_type": "code",
   "execution_count": 13,
   "id": "minus-large",
   "metadata": {},
   "outputs": [
    {
     "name": "stdout",
     "output_type": "stream",
     "text": [
      "Responsibilities: \n",
      "\n",
      "\n",
      "\n",
      "Involved in building database model, APIs and views utilizing Python, in order to build an interactive web based solution.\n",
      "\n",
      "Used data types like dictionaries, tuples and object -concepts based inheritance features for making complex algorithms of networks.\n",
      "\n",
      "Designed and developed the UI of the website using HTML, XHTML, AJAX, CSS and JavaScript.\n",
      "\n",
      "Expertise in client scripting languages like JavaScript, JQuery, JSON, DOJO, bootstrap, Angular.js.\n",
      "\n",
      "Designed and managed API system deployment using fast http server and Amazon AWS architecture\n",
      "\n",
      "Worked on Python Open stack API’s.\n",
      "\n",
      "Carried out various mathematical operations for calculation purpose using python libraries.\n",
      "\n",
      "Managed large datasets using Panda data frames and MySQL.\n",
      "\n",
      "Worked with JSON based REST Web services.\n",
      "\n",
      "Performed testing using Django’s Test Module.\n",
      "\n",
      "Creating unit test/regression test framework for working/new code.\n",
      "\n",
      "Using Subversion version control tool to coordinate team-development.\n",
      "\n",
      "Environment: Python, XML, Java, MySQL, Apache, CSS, HTML, JavaScript, Shell Scripts, Linux and Windows.\n"
     ]
    }
   ],
   "source": [
    "# Store the job description into a variable\n",
    "job_description = \"\"\n",
    "\n",
    "# Print the job description\n",
    "print(job_description)"
   ]
  },
  {
   "cell_type": "code",
   "execution_count": 6,
   "id": "sublime-breathing",
   "metadata": {},
   "outputs": [],
   "source": [
    "# A list of text\n",
    "text = [resume, job_description]"
   ]
  },
  {
   "cell_type": "code",
   "execution_count": 7,
   "id": "communist-induction",
   "metadata": {},
   "outputs": [],
   "source": [
    "from sklearn.feature_extraction.text import CountVectorizer\n",
    "cv = CountVectorizer()\n",
    "count_matrix = cv.fit_transform(text)"
   ]
  },
  {
   "cell_type": "code",
   "execution_count": 8,
   "id": "consecutive-billion",
   "metadata": {},
   "outputs": [
    {
     "name": "stdout",
     "output_type": "stream",
     "text": [
      "\n",
      "Similarity Scores:\n",
      "[[1.         0.37596966]\n",
      " [0.37596966 1.        ]]\n"
     ]
    }
   ],
   "source": [
    "from sklearn.metrics.pairwise import cosine_similarity\n",
    "\n",
    "#Print the similarity scores\n",
    "print(\"\\nSimilarity Scores:\")\n",
    "print(cosine_similarity(count_matrix))"
   ]
  },
  {
   "cell_type": "code",
   "execution_count": 9,
   "id": "third-economy",
   "metadata": {},
   "outputs": [
    {
     "name": "stdout",
     "output_type": "stream",
     "text": [
      "Your resume matches about 37.6% of the job description.\n"
     ]
    }
   ],
   "source": [
    "matchPercentage = cosine_similarity(count_matrix)[0][1] * 100\n",
    "matchPercentage = round(matchPercentage, 2) # round to two decimal\n",
    "print(\"Your resume matches about \"+ str(matchPercentage)+ \"% of the job description.\")"
   ]
  },
  {
   "cell_type": "code",
   "execution_count": null,
   "id": "variable-willow",
   "metadata": {},
   "outputs": [],
   "source": []
  }
 ],
 "metadata": {
  "kernelspec": {
   "display_name": "Python 3",
   "language": "python",
   "name": "python3"
  },
  "language_info": {
   "codemirror_mode": {
    "name": "ipython",
    "version": 3
   },
   "file_extension": ".py",
   "mimetype": "text/x-python",
   "name": "python",
   "nbconvert_exporter": "python",
   "pygments_lexer": "ipython3",
   "version": "3.7.9"
  }
 },
 "nbformat": 4,
 "nbformat_minor": 5
}
